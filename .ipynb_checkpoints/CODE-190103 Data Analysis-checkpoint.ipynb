{
 "cells": [
  {
   "cell_type": "code",
   "execution_count": 2,
   "metadata": {},
   "outputs": [],
   "source": [
    "import pandas     as pd\n",
    "import numpy      as np\n",
    "import tensorflow as tf\n",
    "import cv2\n",
    "import math"
   ]
  },
  {
   "cell_type": "code",
   "execution_count": 3,
   "metadata": {},
   "outputs": [],
   "source": [
    "def cmyk_array_unify(ary_c, ary_m, ary_y, ary_k):\n",
    "    \n",
    "    # 一次元化して配列が同じか。\n",
    "    len_c = len(ary_c.reshape(-1,))\n",
    "    len_m = len(ary_m.reshape(-1,))\n",
    "    len_y = len(ary_y.reshape(-1,))\n",
    "    len_k = len(ary_k.reshape(-1,))\n",
    "\n",
    "    \n",
    "    if( len_c - len_m + len_y - len_k ) == 0 :\n",
    "       cmyk = []\n",
    "       \n",
    "       d_y_2 = len(ary_c)\n",
    "       d_x_2 = len(ary_c[0])\n",
    "       \n",
    "       for i in range(d_y_2):\n",
    "           d_x_3 = []\n",
    "           for j in range(d_x_2):\n",
    "               d_z_3 = []\n",
    "               d_z_3.append(ary_c[i][j])\n",
    "               d_z_3.append(ary_m[i][j])\n",
    "               d_z_3.append(ary_y[i][j])\n",
    "               d_z_3.append(ary_k[i][j])\n",
    "               d_x_3.append(d_z_3)\n",
    "           cmyk.append(d_x_3)\n",
    "       return np.array(cmyk)\n",
    "       \n",
    "    else:\n",
    "       print(\"配列の長さが違う。\")\n",
    "       return 0\n",
    "     "
   ]
  },
  {
   "cell_type": "code",
   "execution_count": 4,
   "metadata": {},
   "outputs": [],
   "source": [
    "# yの読み出し（最初の9個）\n",
    "train_df = pd.read_csv(\"data/train_test.csv\")"
   ]
  },
  {
   "cell_type": "code",
   "execution_count": 16,
   "metadata": {},
   "outputs": [
    {
     "name": "stdout",
     "output_type": "stream",
     "text": [
      "['00070df0-bbc3-11e8-b2bc-ac1f6b6435d0'\n",
      " '000a6c98-bb9b-11e8-b2b9-ac1f6b6435d0'\n",
      " '000a9596-bbc4-11e8-b2bc-ac1f6b6435d0'\n",
      " '000c99ba-bba4-11e8-b2b9-ac1f6b6435d0'\n",
      " '001838f8-bbca-11e8-b2bc-ac1f6b6435d0'\n",
      " '001bcdd2-bbb2-11e8-b2ba-ac1f6b6435d0'\n",
      " '0020af02-bbba-11e8-b2ba-ac1f6b6435d0'\n",
      " '002679c2-bbb6-11e8-b2ba-ac1f6b6435d0'\n",
      " '00285ce4-bba0-11e8-b2b9-ac1f6b6435d0']\n",
      "[[1 0 0 0 0 0 0 0 0 0 0 0 0 0 0 0 1 0 0 0 0 0 0 0 0 0 0 0]\n",
      " [1 1 1 0 0 0 0 1 0 0 0 0 0 0 0 0 0 0 0 0 0 0 0 0 0 0 0 0]\n",
      " [0 0 0 0 0 1 0 0 0 0 0 0 0 0 0 0 0 0 0 0 0 0 0 0 0 0 0 0]\n",
      " [0 1 0 0 0 0 0 0 0 0 0 0 0 0 0 0 0 0 0 0 0 0 0 0 0 0 0 0]\n",
      " [0 0 0 0 0 0 0 0 0 0 0 0 0 0 0 0 0 0 1 0 0 0 0 0 0 0 0 0]\n",
      " [1 0 0 0 0 0 0 0 0 0 0 0 0 0 0 0 0 0 0 0 0 0 0 0 0 0 0 0]\n",
      " [0 0 1 0 0 0 0 0 0 0 0 0 0 0 0 0 0 0 0 0 0 0 0 0 0 1 0 0]\n",
      " [1 0 0 0 0 0 0 0 0 0 0 0 0 0 0 0 0 0 0 0 0 0 0 0 0 0 0 0]\n",
      " [1 0 1 0 0 0 0 0 0 0 0 0 0 0 0 0 0 0 0 0 0 0 0 0 0 0 0 0]]\n",
      "28\n"
     ]
    }
   ],
   "source": [
    "# id\n",
    "image_name = np.array(train_df[\"Id\"])\n",
    "\n",
    "# 目標出力\n",
    "t_train = np.array(train_df.iloc[:,1:])\n",
    "cmyk = [\"_blue\",\"_green\",\"_red\",\"_yellow\"]\n",
    "\n",
    "print(image_name)\n",
    "print(t_train)\n",
    "print(len(t_train[0]))"
   ]
  },
  {
   "cell_type": "code",
   "execution_count": 6,
   "metadata": {},
   "outputs": [],
   "source": [
    "# yをもとにxを読み出し。(_blue, _green, _red, _yellow)でテンソル３階層する。\n",
    "\n",
    "x_list = []\n",
    "\n",
    "for img in image_name:\n",
    "    img_blue   = cv2.imread( \"./data/train/\" + img + \"_blue\"   + \".png\", 0)\n",
    "    img_green  = cv2.imread( \"./data/train/\" + img + \"_green\"  + \".png\", 0)\n",
    "    img_red    = cv2.imread( \"./data/train/\" + img + \"_red\"    + \".png\", 0)\n",
    "    img_yellow = cv2.imread( \"./data/train/\" + img + \"_yellow\" + \".png\", 0)\n",
    "    \n",
    "    cmyk       = cmyk_array_unify(img_blue, img_green, img_red, img_yellow)\n",
    "    cmyk_plane = cmyk.reshape(-1,)\n",
    "    x_list.append(cmyk_plane)\n",
    "    \n",
    "x_train = np.array(x_list)"
   ]
  },
  {
   "cell_type": "code",
   "execution_count": 7,
   "metadata": {},
   "outputs": [
    {
     "name": "stdout",
     "output_type": "stream",
     "text": [
      "512.0\n",
      "1048576\n"
     ]
    }
   ],
   "source": [
    "print(math.sqrt(len(x_train[0])/4))\n",
    "print(len(x_train[0]))"
   ]
  },
  {
   "cell_type": "code",
   "execution_count": null,
   "metadata": {},
   "outputs": [],
   "source": [
    "# test_dataとtrain_dataで訓練\n"
   ]
  },
  {
   "cell_type": "code",
   "execution_count": 18,
   "metadata": {},
   "outputs": [],
   "source": [
    "def weight_variable(shape):\n",
    "  initial = tf.truncated_normal(shape, stddev=0.1)\n",
    "  return tf.Variable(initial)\n",
    " \n",
    "def bias_variable(shape):\n",
    "  initial = tf.constant(0.1, shape=shape)\n",
    "  return tf.Variable(initial)\n",
    "\n",
    "def conv2d(x, W):\n",
    "  return tf.nn.conv2d(x, W, strides=[1, 1, 1, 1], padding='SAME')\n",
    "   \n",
    "def max_pool_2x2(x):\n",
    "  return tf.nn.max_pool(x, ksize=[1, 8,8, 1],\n",
    "                        strides=[1,8,8, 1], padding='SAME')"
   ]
  },
  {
   "cell_type": "code",
   "execution_count": 19,
   "metadata": {},
   "outputs": [
    {
     "name": "stdout",
     "output_type": "stream",
     "text": [
      "accuracy: 0.5555556\n"
     ]
    }
   ],
   "source": [
    "# 入力層\n",
    "x = tf.placeholder(\"float\", [None, 1048576])\n",
    "# 形状変更\n",
    "x_image = tf.reshape(x, [-1, 512, 512, 4])\n",
    "\n",
    "# 第2層 (畳み込み層)\n",
    "W_conv1 = weight_variable([5, 5, 4, 32])\n",
    "b_conv1 = bias_variable([32])\n",
    "y_conv1 = tf.nn.relu(conv2d(x_image, W_conv1) + b_conv1)\n",
    "\n",
    "# 第3層 (プーリング層)\n",
    "y_pool1 = max_pool_2x2(y_conv1)#256\n",
    " \n",
    "# 第4層 (畳み込み層)\n",
    "W_conv2 = weight_variable([5, 5, 32, 64])\n",
    "b_conv2 = bias_variable([64])\n",
    "y_conv2 = tf.nn.relu(conv2d(y_pool1, W_conv2) + b_conv2)\n",
    " \n",
    "# 第5層 (プーリング層)\n",
    "y_pool2 = max_pool_2x2(y_conv2)#32\n",
    "\n",
    "# 形状変更\n",
    "y_pool2_flat = tf.reshape(y_pool2, [-1, 4096])\n",
    " \n",
    "# 第6層 (全結合層)\n",
    "W_fc1 = weight_variable([4096, 1024])\n",
    "b_fc1 = bias_variable([1024])\n",
    "y_fc1 = tf.nn.relu(tf.matmul(y_pool2_flat, W_fc1) + b_fc1)\n",
    " \n",
    "# 第7層 (全結合層)\n",
    "W_fc2 = weight_variable([1024, 28])\n",
    "b_fc2 = bias_variable([28])\n",
    "y = tf.nn.softmax(tf.matmul(y_fc1, W_fc2) + b_fc2)\n",
    " \n",
    "# 目標出力の次元\n",
    "t = tf.placeholder(\"float\", [None, 28])\n",
    "\n",
    "# 損失関数を計算グラフを作成する\n",
    "cross_entropy = -tf.reduce_sum(t * tf.log(y))\n",
    "\n",
    "# 次の(1)、(2)を行うための計算グラフを作成する。\n",
    "# (1) 損失関数に対するネットワークを構成するすべての変数の勾配を計算する。\n",
    "# (2) 勾配方向に学習率分移動して、すべての変数を更新する。\n",
    "train_step = tf.train.AdamOptimizer(1e-4).minimize(cross_entropy)\n",
    " \n",
    "# 初期化を行うための計算グラフを作成する。\n",
    "init = tf.global_variables_initializer()\n",
    " \n",
    "# テストデータに対する正答率を計算するための計算グラフを作成する。\n",
    "correct_prediction = tf.equal(tf.argmax(y, 1), tf.argmax(t, 1))\n",
    "accuracy = tf.reduce_mean(tf.cast(correct_prediction, \"float\"))\n",
    " \n",
    "# MNIST 入力データ\n",
    "# mnist = input_data.read_data_sets(\"data/\", one_hot=True)\n",
    " \n",
    "# セッションを作成して、計算グラフを実行する。\n",
    "with tf.Session() as sess:\n",
    "   \n",
    "    # 初期化を実行する。\n",
    "    sess.run(init)\n",
    "   \n",
    "    # 学習を実行する。（エポック）\n",
    "    for i in range(100):\n",
    "        sess.run(train_step, feed_dict={x: x_train, t: t_train})\n",
    " \n",
    "    result = sess.run(accuracy,feed_dict={x: x_train, t: t_train})\n",
    "    print(\"accuracy:\", result)"
   ]
  },
  {
   "cell_type": "code",
   "execution_count": null,
   "metadata": {},
   "outputs": [],
   "source": [
    "# tensorflowのgpu動作確認●\n",
    "# テストデータの評価\n",
    "# 答えの出力（方法、形式、確認）"
   ]
  },
  {
   "cell_type": "code",
   "execution_count": null,
   "metadata": {},
   "outputs": [],
   "source": []
  },
  {
   "cell_type": "code",
   "execution_count": null,
   "metadata": {},
   "outputs": [],
   "source": []
  },
  {
   "cell_type": "code",
   "execution_count": 46,
   "metadata": {},
   "outputs": [
    {
     "name": "stdout",
     "output_type": "stream",
     "text": [
      "Tensor(\"Shape_17:0\", shape=(3,), dtype=int32)\n",
      "<bound method Tensor.get_shape of <tf.Tensor 'DecodePng_17:0' shape=(?, ?, 3) dtype=uint8>>\n",
      "Tensor(\"ToFloat_4:0\", shape=(?, ?, 3), dtype=float32)\n"
     ]
    }
   ],
   "source": [
    "image_r = tf.read_file(\"/data/train/00ab10d6-bba4-11e8-b2b9-ac1f6b6435d0_blue.png\")\n",
    "image = tf.image.decode_png(image_r, channels=3)\n",
    "image_float = tf.to_float(image)\n",
    "print(tf.shape(image))\n",
    "print(image.get_shape)\n",
    "print(image_float)"
   ]
  },
  {
   "cell_type": "code",
   "execution_count": 140,
   "metadata": {},
   "outputs": [
    {
     "name": "stdout",
     "output_type": "stream",
     "text": [
      "[[41 45 34 ...  0  0  0]\n",
      " [43 50 44 ...  0  0  0]\n",
      " [42 46 51 ...  0  0  0]\n",
      " ...\n",
      " [ 0  0  0 ...  0  0  0]\n",
      " [ 0  0  0 ...  0  0  0]\n",
      " [ 0  0  0 ...  0  0  0]]\n",
      "<class 'numpy.ndarray'>\n"
     ]
    }
   ],
   "source": [
    "\"\"\"\n",
    "sessionの作成\n",
    "\n",
    "\"\"\"\n",
    "#　訓練データの読み込み\n",
    "np.set_printoptions(threshold=10)\n",
    "img = cv2.imread(\"./data/train/00ab10d6-bba4-11e8-b2b9-ac1f6b6435d0_blue.png\",0)\n",
    "print(img)\n",
    "print(type(img))"
   ]
  },
  {
   "cell_type": "code",
   "execution_count": 132,
   "metadata": {},
   "outputs": [],
   "source": [
    "z_c = np.array([[\"a\",\"b\",\"c\"],[\"d\",\"e\",\"f\"]])\n",
    "z_m = np.array([[\"g\",\"h\",\"i\"],[\"j\",\"k\",\"l\"]])\n",
    "z_y = np.array([[\"m\",\"n\",\"o\"],[\"p\",\"q\",\"r\"]])\n",
    "z_k = np.array([[\"s\",\"t\",\"u\"],[\"v\",\"w\",\"x\"]])"
   ]
  },
  {
   "cell_type": "code",
   "execution_count": 133,
   "metadata": {},
   "outputs": [
    {
     "name": "stdout",
     "output_type": "stream",
     "text": [
      "[[['a' 'g' 'm' 's']\n",
      "  ['b' 'h' 'n' 't']\n",
      "  ['c' 'i' 'o' 'u']]\n",
      "\n",
      " [['d' 'j' 'p' 'v']\n",
      "  ['e' 'k' 'q' 'w']\n",
      "  ['f' 'l' 'r' 'x']]]\n"
     ]
    }
   ],
   "source": [
    "s = cmyk_array_unify(z_c,z_m,z_y,z_k)\n",
    "print(s)"
   ]
  },
  {
   "cell_type": "code",
   "execution_count": 134,
   "metadata": {},
   "outputs": [
    {
     "name": "stdout",
     "output_type": "stream",
     "text": [
      "['a' 'g' 'm' ... 'l' 'r' 'x']\n"
     ]
    }
   ],
   "source": [
    "x_image = s.reshape(-1,)\n",
    "print(x_image)"
   ]
  },
  {
   "cell_type": "code",
   "execution_count": null,
   "metadata": {},
   "outputs": [],
   "source": [
    "#コードの作成"
   ]
  },
  {
   "cell_type": "code",
   "execution_count": 20,
   "metadata": {},
   "outputs": [
    {
     "data": {
      "text/plain": [
       "[name: \"/device:CPU:0\"\n",
       " device_type: \"CPU\"\n",
       " memory_limit: 268435456\n",
       " locality {\n",
       " }\n",
       " incarnation: 3786672106358165647, name: \"/device:GPU:0\"\n",
       " device_type: \"GPU\"\n",
       " memory_limit: 6674410373\n",
       " locality {\n",
       "   bus_id: 1\n",
       "   links {\n",
       "   }\n",
       " }\n",
       " incarnation: 2611446402891614919\n",
       " physical_device_desc: \"device: 0, name: GeForce GTX 1080, pci bus id: 0000:01:00.0, compute capability: 6.1\"]"
      ]
     },
     "execution_count": 20,
     "metadata": {},
     "output_type": "execute_result"
    }
   ],
   "source": [
    "# gpu動作確認コード\n",
    "from tensorflow.python.client import device_lib\n",
    "device_lib.list_local_devices()"
   ]
  },
  {
   "cell_type": "code",
   "execution_count": 79,
   "metadata": {},
   "outputs": [
    {
     "name": "stdout",
     "output_type": "stream",
     "text": [
      "Tensor(\"Reshape:0\", shape=(262144,), dtype=uint8)\n"
     ]
    }
   ],
   "source": [
    "print(r)"
   ]
  },
  {
   "cell_type": "code",
   "execution_count": null,
   "metadata": {},
   "outputs": [],
   "source": [
    "# target_dataの読み込み\n",
    "\n",
    "train_labels = pd.read_csv(\"data/train_original.csv\")"
   ]
  },
  {
   "cell_type": "code",
   "execution_count": null,
   "metadata": {},
   "outputs": [],
   "source": [
    "# w = tf.Variable(tf.zeros([2,1])) #入力は２次元\n",
    "#     b = tf.Variable(tf.zeros([1]))   #入力は２次元\n",
    "\n",
    "#     # def y(x):\n",
    "#     #     return sigmoid(np.dot(w,x)+b)\n",
    "#     # def sigmoid(x):\n",
    "#     #     return 1 / (1 + np.exp(-x))\n",
    "\n",
    "x = tf.placeholder(tf.float32, shape=[None, 512]) #入力\n",
    "t = tf.placeholder(tf.float32, shape=[None, 1]) #正解出力\n",
    "y = tf.nn.sigmoid(tf.matmul(x,w)+b)"
   ]
  },
  {
   "cell_type": "code",
   "execution_count": 10,
   "metadata": {},
   "outputs": [],
   "source": [
    "from tensorflow.examples.tutorials.mnist import input_data"
   ]
  },
  {
   "cell_type": "code",
   "execution_count": 11,
   "metadata": {},
   "outputs": [
    {
     "name": "stdout",
     "output_type": "stream",
     "text": [
      "WARNING:tensorflow:From <ipython-input-11-6aef72370c84>:1: read_data_sets (from tensorflow.contrib.learn.python.learn.datasets.mnist) is deprecated and will be removed in a future version.\n",
      "Instructions for updating:\n",
      "Please use alternatives such as official/mnist/dataset.py from tensorflow/models.\n",
      "WARNING:tensorflow:From C:\\Users\\talla\\Anaconda3\\envs\\tensorflow_gpuenv\\lib\\site-packages\\tensorflow\\contrib\\learn\\python\\learn\\datasets\\mnist.py:260: maybe_download (from tensorflow.contrib.learn.python.learn.datasets.base) is deprecated and will be removed in a future version.\n",
      "Instructions for updating:\n",
      "Please write your own downloading logic.\n",
      "WARNING:tensorflow:From C:\\Users\\talla\\Anaconda3\\envs\\tensorflow_gpuenv\\lib\\site-packages\\tensorflow\\contrib\\learn\\python\\learn\\datasets\\mnist.py:262: extract_images (from tensorflow.contrib.learn.python.learn.datasets.mnist) is deprecated and will be removed in a future version.\n",
      "Instructions for updating:\n",
      "Please use tf.data to implement this functionality.\n",
      "Extracting data/train-images-idx3-ubyte.gz\n",
      "WARNING:tensorflow:From C:\\Users\\talla\\Anaconda3\\envs\\tensorflow_gpuenv\\lib\\site-packages\\tensorflow\\contrib\\learn\\python\\learn\\datasets\\mnist.py:267: extract_labels (from tensorflow.contrib.learn.python.learn.datasets.mnist) is deprecated and will be removed in a future version.\n",
      "Instructions for updating:\n",
      "Please use tf.data to implement this functionality.\n",
      "Extracting data/train-labels-idx1-ubyte.gz\n",
      "WARNING:tensorflow:From C:\\Users\\talla\\Anaconda3\\envs\\tensorflow_gpuenv\\lib\\site-packages\\tensorflow\\contrib\\learn\\python\\learn\\datasets\\mnist.py:110: dense_to_one_hot (from tensorflow.contrib.learn.python.learn.datasets.mnist) is deprecated and will be removed in a future version.\n",
      "Instructions for updating:\n",
      "Please use tf.one_hot on tensors.\n",
      "Extracting data/t10k-images-idx3-ubyte.gz\n",
      "Extracting data/t10k-labels-idx1-ubyte.gz\n",
      "WARNING:tensorflow:From C:\\Users\\talla\\Anaconda3\\envs\\tensorflow_gpuenv\\lib\\site-packages\\tensorflow\\contrib\\learn\\python\\learn\\datasets\\mnist.py:290: DataSet.__init__ (from tensorflow.contrib.learn.python.learn.datasets.mnist) is deprecated and will be removed in a future version.\n",
      "Instructions for updating:\n",
      "Please use alternatives such as official/mnist/dataset.py from tensorflow/models.\n"
     ]
    }
   ],
   "source": [
    "mnist = input_data.read_data_sets(\"data/\", one_hot=True)\n",
    "x_batch, t_batch = mnist.train.next_batch(100)"
   ]
  },
  {
   "cell_type": "code",
   "execution_count": 13,
   "metadata": {
    "scrolled": false
   },
   "outputs": [
    {
     "name": "stdout",
     "output_type": "stream",
     "text": [
      "[0.         0.         0.         0.         0.         0.\n",
      " 0.         0.         0.         0.         0.         0.\n",
      " 0.         0.         0.         0.         0.         0.\n",
      " 0.         0.         0.         0.         0.         0.\n",
      " 0.         0.         0.         0.         0.         0.\n",
      " 0.         0.         0.         0.         0.         0.\n",
      " 0.         0.         0.         0.         0.         0.\n",
      " 0.         0.         0.         0.         0.         0.\n",
      " 0.         0.         0.         0.         0.         0.\n",
      " 0.         0.         0.         0.         0.         0.\n",
      " 0.         0.         0.         0.         0.         0.\n",
      " 0.         0.         0.         0.         0.         0.\n",
      " 0.         0.         0.         0.         0.         0.\n",
      " 0.         0.         0.         0.         0.         0.\n",
      " 0.         0.         0.         0.         0.         0.\n",
      " 0.         0.         0.         0.         0.         0.\n",
      " 0.         0.         0.         0.         0.         0.\n",
      " 0.         0.         0.         0.         0.         0.\n",
      " 0.         0.         0.         0.         0.         0.\n",
      " 0.         0.         0.         0.         0.         0.\n",
      " 0.         0.         0.         0.         0.         0.\n",
      " 0.         0.         0.         0.         0.         0.\n",
      " 0.         0.         0.         0.         0.         0.\n",
      " 0.         0.         0.         0.         0.         0.\n",
      " 0.         0.         0.         0.         0.         0.\n",
      " 0.         0.         0.         0.12156864 0.21960786 0.6\n",
      " 0.7686275  0.9960785  0.8196079  0.6039216  0.60784316 0.6039216\n",
      " 0.5529412  0.21960786 0.00784314 0.         0.         0.\n",
      " 0.         0.         0.         0.         0.         0.\n",
      " 0.         0.         0.01176471 0.227451   0.69803923 0.77647066\n",
      " 0.56078434 0.9176471  0.9921569  0.9803922  0.9921569  0.95294124\n",
      " 0.95294124 0.9803922  0.9921569  0.9921569  0.9921569  0.9921569\n",
      " 0.36078432 0.         0.         0.         0.         0.\n",
      " 0.         0.         0.         0.         0.         0.\n",
      " 0.35686275 0.9921569  0.9921569  0.9921569  0.9921569  0.79215693\n",
      " 0.34901962 0.21176472 0.34509805 0.         0.         0.23529413\n",
      " 0.34901962 0.34901962 0.34901962 0.34901962 0.15294118 0.\n",
      " 0.         0.         0.         0.         0.         0.\n",
      " 0.         0.         0.         0.0509804  0.8117648  0.98823535\n",
      " 0.91372555 0.9450981  0.34901962 0.0627451  0.         0.\n",
      " 0.         0.         0.         0.         0.         0.\n",
      " 0.         0.         0.         0.         0.         0.\n",
      " 0.         0.         0.         0.         0.         0.\n",
      " 0.         0.43137258 0.9921569  0.91372555 0.         0.1254902\n",
      " 0.         0.         0.         0.         0.         0.\n",
      " 0.         0.         0.         0.         0.         0.\n",
      " 0.         0.         0.         0.         0.         0.\n",
      " 0.         0.         0.         0.         0.         0.43137258\n",
      " 0.9921569  0.91372555 0.         0.         0.         0.\n",
      " 0.         0.         0.         0.         0.         0.\n",
      " 0.         0.         0.         0.         0.         0.\n",
      " 0.         0.         0.         0.         0.         0.\n",
      " 0.         0.         0.         0.43137258 0.9921569  0.91372555\n",
      " 0.         0.         0.         0.         0.         0.\n",
      " 0.         0.         0.         0.         0.         0.\n",
      " 0.         0.         0.         0.         0.         0.\n",
      " 0.         0.         0.         0.         0.         0.\n",
      " 0.         0.43137258 0.9921569  0.9607844  0.28235295 0.15686275\n",
      " 0.04313726 0.         0.         0.         0.         0.\n",
      " 0.         0.         0.         0.         0.         0.\n",
      " 0.         0.         0.         0.         0.         0.\n",
      " 0.         0.         0.         0.         0.         0.28627452\n",
      " 0.9921569  0.9921569  0.9921569  0.9921569  0.82745105 0.54509807\n",
      " 0.23529413 0.         0.         0.         0.         0.\n",
      " 0.         0.         0.         0.         0.         0.\n",
      " 0.         0.         0.         0.         0.         0.\n",
      " 0.         0.         0.         0.00392157 0.37254903 0.8745099\n",
      " 0.9333334  0.9921569  0.9921569  0.9921569  0.98823535 0.74509805\n",
      " 0.5803922  0.07450981 0.         0.         0.         0.\n",
      " 0.         0.         0.         0.         0.         0.\n",
      " 0.         0.         0.         0.         0.         0.\n",
      " 0.         0.         0.         0.07843138 0.13333334 0.19215688\n",
      " 0.4784314  0.8000001  0.9803922  0.9921569  0.9921569  0.7803922\n",
      " 0.07450981 0.         0.         0.         0.         0.\n",
      " 0.         0.         0.         0.         0.         0.\n",
      " 0.         0.         0.         0.         0.         0.\n",
      " 0.         0.         0.         0.         0.         0.\n",
      " 0.14117648 0.6431373  0.9921569  0.9921569  0.80392164 0.07843138\n",
      " 0.         0.         0.         0.         0.         0.\n",
      " 0.         0.         0.         0.         0.         0.\n",
      " 0.         0.         0.         0.         0.         0.\n",
      " 0.         0.         0.         0.         0.         0.03137255\n",
      " 0.3254902  0.9921569  0.9921569  0.3529412  0.         0.\n",
      " 0.         0.         0.         0.         0.         0.\n",
      " 0.         0.         0.         0.         0.         0.\n",
      " 0.         0.         0.         0.         0.         0.\n",
      " 0.         0.         0.         0.         0.00784314 0.7490196\n",
      " 0.9921569  0.90196085 0.07843138 0.         0.         0.\n",
      " 0.         0.         0.         0.         0.         0.\n",
      " 0.         0.         0.         0.         0.         0.\n",
      " 0.         0.         0.         0.         0.         0.\n",
      " 0.         0.         0.         0.43529415 0.9921569  0.9921569\n",
      " 0.11764707 0.         0.         0.         0.         0.\n",
      " 0.         0.         0.         0.         0.         0.\n",
      " 0.         0.         0.         0.         0.         0.\n",
      " 0.         0.         0.         0.         0.         0.\n",
      " 0.14117648 0.7725491  0.9921569  0.9058824  0.07843138 0.\n",
      " 0.         0.         0.         0.         0.         0.\n",
      " 0.         0.         0.         0.         0.         0.\n",
      " 0.         0.         0.         0.         0.         0.\n",
      " 0.         0.         0.05490196 0.44705886 0.9490197  0.9960785\n",
      " 0.9843138  0.3137255  0.         0.         0.         0.\n",
      " 0.         0.         0.         0.         0.         0.\n",
      " 0.         0.         0.         0.         0.         0.3254902\n",
      " 0.6431373  0.35686275 0.2509804  0.04313726 0.3529412  0.5686275\n",
      " 0.8352942  0.9921569  0.9921569  0.9921569  0.3529412  0.\n",
      " 0.         0.         0.         0.         0.         0.\n",
      " 0.         0.         0.         0.         0.         0.\n",
      " 0.         0.         0.         0.3647059  0.9921569  0.9960785\n",
      " 0.9843138  0.96470594 0.9921569  0.9921569  0.9960785  0.9921569\n",
      " 0.6901961  0.18431373 0.00784314 0.         0.         0.\n",
      " 0.         0.         0.         0.         0.         0.\n",
      " 0.         0.         0.         0.         0.         0.\n",
      " 0.         0.01176471 0.4666667  0.94117653 0.9921569  0.9921569\n",
      " 0.9921569  0.77647066 0.6        0.21960786 0.04313726 0.\n",
      " 0.         0.         0.         0.         0.         0.\n",
      " 0.         0.         0.         0.         0.         0.\n",
      " 0.         0.         0.         0.         0.         0.\n",
      " 0.         0.         0.         0.         0.         0.\n",
      " 0.         0.         0.         0.         0.         0.\n",
      " 0.         0.         0.         0.         0.         0.\n",
      " 0.         0.         0.         0.         0.         0.\n",
      " 0.         0.         0.         0.         0.         0.\n",
      " 0.         0.         0.         0.         0.         0.\n",
      " 0.         0.         0.         0.         0.         0.\n",
      " 0.         0.         0.         0.         0.         0.\n",
      " 0.         0.         0.         0.         0.         0.\n",
      " 0.         0.         0.         0.         0.         0.\n",
      " 0.         0.         0.         0.         0.         0.\n",
      " 0.         0.         0.         0.         0.         0.\n",
      " 0.         0.         0.         0.        ]\n",
      "[0. 0. 0. 0. 0. 1. 0. 0. 0. 0.]\n",
      "<class 'numpy.ndarray'>\n",
      "<class 'numpy.ndarray'>\n"
     ]
    }
   ],
   "source": [
    "print(x_batch[0])\n",
    "print(t_batch[0])\n",
    "print(type(x_batch[0]))\n",
    "print(type(t_batch[0]))\n",
    "\n",
    "#print(t_batch)"
   ]
  },
  {
   "cell_type": "code",
   "execution_count": null,
   "metadata": {},
   "outputs": [
    {
     "name": "stdout",
     "output_type": "stream",
     "text": [
      "WARNING:tensorflow:From <ipython-input-4-c6070b6cb362>:3: start_queue_runners (from tensorflow.python.training.queue_runner_impl) is deprecated and will be removed in a future version.\n",
      "Instructions for updating:\n",
      "To construct input pipelines, use the `tf.data` module.\n",
      "WARNING:tensorflow:`tf.train.start_queue_runners()` was called when no queue runners were defined. You can safely remove the call to this deprecated function.\n"
     ]
    }
   ],
   "source": [
    "with tf.Session() as sess:\n",
    "    coord = tf.train.Coordinator()\n",
    "    threads = tf.train.start_queue_runners(coord=coord)\n",
    "    img = sess.run(image)\n",
    "    Image.fromarray(np.uint8(img)).show()"
   ]
  },
  {
   "cell_type": "code",
   "execution_count": 2,
   "metadata": {
    "collapsed": true
   },
   "outputs": [],
   "source": [
    "data = pd.read_csv(\"data/train.csv\")"
   ]
  },
  {
   "cell_type": "code",
   "execution_count": 9,
   "metadata": {
    "collapsed": true
   },
   "outputs": [],
   "source": [
    "col = np.array(data.columns[1:])"
   ]
  },
  {
   "cell_type": "code",
   "execution_count": null,
   "metadata": {
    "collapsed": true
   },
   "outputs": [],
   "source": []
  },
  {
   "cell_type": "code",
   "execution_count": null,
   "metadata": {
    "collapsed": true
   },
   "outputs": [],
   "source": []
  }
 ],
 "metadata": {
  "kernelspec": {
   "display_name": "Environment (conda_tensorflow_gpuenv)",
   "language": "python",
   "name": "conda_tensorflow_gpuenv"
  },
  "language_info": {
   "codemirror_mode": {
    "name": "ipython",
    "version": 3
   },
   "file_extension": ".py",
   "mimetype": "text/x-python",
   "name": "python",
   "nbconvert_exporter": "python",
   "pygments_lexer": "ipython3",
   "version": "3.6.7"
  }
 },
 "nbformat": 4,
 "nbformat_minor": 2
}
